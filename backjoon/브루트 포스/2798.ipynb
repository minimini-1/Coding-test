{
 "cells": [
  {
   "cell_type": "markdown",
   "metadata": {},
   "source": [
    "카지노에서 제일 인기 있는 게임 블랙잭의 규칙은 상당히 쉽다. 카드의 합이 21을 넘지 않는 한도 내에서, 카드의 합을 최대한 크게 만드는 게임이다. 블랙잭은 카지노마다 다양한 규정이 있다.\n",
    "\n",
    "한국 최고의 블랙잭 고수 김정인은 새로운 블랙잭 규칙을 만들어 상근, 창영이와 게임하려고 한다.\n",
    "\n",
    "김정인 버전의 블랙잭에서 각 카드에는 양의 정수가 쓰여 있다. 그 다음, 딜러는 N장의 카드를 모두 숫자가 보이도록 바닥에 놓는다. 그런 후에 딜러는 숫자 M을 크게 외친다.\n",
    "\n",
    "이제 플레이어는 제한된 시간 안에 N장의 카드 중에서 3장의 카드를 골라야 한다. 블랙잭 변형 게임이기 때문에, 플레이어가 고른 카드의 합은 M을 넘지 않으면서 M과 최대한 가깝게 만들어야 한다.\n",
    "\n",
    "N장의 카드에 써져 있는 숫자가 주어졌을 때, M을 넘지 않으면서 M에 최대한 가까운 카드 3장의 합을 구해 출력하시오."
   ]
  },
  {
   "cell_type": "code",
   "execution_count": 52,
   "metadata": {},
   "outputs": [
    {
     "name": "stdout",
     "output_type": "stream",
     "text": [
      "21\n"
     ]
    }
   ],
   "source": [
    "# sum_card <= 21\n",
    "# max(sum_card)\n",
    "# N개의 카드 중에서 3장을 골라, num M에 최대한 가깝게 (sum_card <= M)\n",
    "\n",
    "# len_num_list, m = map(int, input().split())\n",
    "# num_list = list(map(int, input().split()))\n",
    "len_num, m = 5, 21\n",
    "num_list = [5,6,7,8,9]\n",
    "num_list.sort()\n",
    "\n",
    "# def combination(arr, sel_num):\n",
    "#     arr = sorted(arr)\n",
    "    \n",
    "#     def picking_up(chosen_list):\n",
    "#         if len(chosen_list) == sel_num:\n",
    "#             print(chosen_list)\n",
    "#             return\n",
    "#         start_idx = arr.index(chosen_list[-1]) + 1 if chosen_list else 0\n",
    "#         for idx in range(start_idx, len(arr)):\n",
    "#             chosen_list.append(arr[idx])\n",
    "#             picking_up(chosen_list)\n",
    "#             chosen_list.pop()\n",
    "#     picking_up([])\n",
    "\n",
    "def combination(arr, sel_num, output_list = []):\n",
    "    arr = sorted(arr)    \n",
    "    def picking_up(chosen_list):\n",
    "        if len(chosen_list) == sel_num:\n",
    "            output_list.append(chosen_list[:]) # chosen_list는 pop되기 때문에 copy를 하지 않으면 같이 사라짐, [:] 슬라이싱을 통해 copy를 해서 별개의 리스트로 만듦        \n",
    "        start_idx = arr.index(chosen_list[-1]) + 1 if chosen_list else 0\n",
    "        for idx in range(start_idx, len(arr)):\n",
    "            chosen_list.append(arr[idx])\n",
    "            picking_up(chosen_list)\n",
    "            chosen_list.pop()    \n",
    "    picking_up([])\n",
    "    return output_list\n",
    "    \n",
    "max_sum = 0\n",
    "for comb in combination(num_list, 3):\n",
    "    if sum(comb) <= m:\n",
    "        temp = sum(comb)\n",
    "        if temp >= max_sum:\n",
    "            max_sum = temp\n",
    "print(max_sum)"
   ]
  },
  {
   "cell_type": "code",
   "execution_count": 10,
   "metadata": {},
   "outputs": [
    {
     "name": "stdout",
     "output_type": "stream",
     "text": [
      "21\n"
     ]
    }
   ],
   "source": [
    "# 조합 찾는 모듈 활용\n",
    "from itertools import combinations\n",
    "\n",
    "len_num, m = 5, 21\n",
    "num_list = [5,6,7,8,9]\n",
    "# len_num_list, m = map(int, input().split())\n",
    "# num_list = list(map(int, input().split()))\n",
    "comb_num_list = list(combinations(num_list, 3))\n",
    "\n",
    "max_sum = 0\n",
    "for comb in comb_num_list:\n",
    "    if sum(comb) <= m:\n",
    "        temp = sum(comb)\n",
    "        if temp >= max_sum:\n",
    "            max_sum = temp\n",
    "            \n",
    "print(max_sum)"
   ]
  },
  {
   "cell_type": "code",
   "execution_count": 26,
   "metadata": {},
   "outputs": [
    {
     "data": {
      "text/plain": [
       "[(5, 6, 7),\n",
       " (5, 6, 8),\n",
       " (5, 6, 9),\n",
       " (5, 7, 8),\n",
       " (5, 7, 9),\n",
       " (5, 8, 9),\n",
       " (6, 7, 8),\n",
       " (6, 7, 9),\n",
       " (6, 8, 9),\n",
       " (7, 8, 9)]"
      ]
     },
     "execution_count": 26,
     "metadata": {},
     "output_type": "execute_result"
    }
   ],
   "source": [
    "num_list = [5,6,7,8,9]\n",
    "list(combinations(num_list, 3))"
   ]
  }
 ],
 "metadata": {
  "kernelspec": {
   "display_name": "Python 3",
   "language": "python",
   "name": "python3"
  },
  "language_info": {
   "codemirror_mode": {
    "name": "ipython",
    "version": 3
   },
   "file_extension": ".py",
   "mimetype": "text/x-python",
   "name": "python",
   "nbconvert_exporter": "python",
   "pygments_lexer": "ipython3",
   "version": "3.10.11"
  }
 },
 "nbformat": 4,
 "nbformat_minor": 2
}
