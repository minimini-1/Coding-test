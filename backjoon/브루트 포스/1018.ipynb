{
 "cells": [
  {
   "cell_type": "markdown",
   "metadata": {},
   "source": [
    "지민이는 자신의 저택에서 MN개의 단위 정사각형으로 나누어져 있는 M×N 크기의 보드를 찾았다. 어떤 정사각형은 검은색으로 칠해져 있고, 나머지는 흰색으로 칠해져 있다. 지민이는 이 보드를 잘라서 8×8 크기의 체스판으로 만들려고 한다.\n",
    "\n",
    "체스판은 검은색과 흰색이 번갈아서 칠해져 있어야 한다. 구체적으로, 각 칸이 검은색과 흰색 중 하나로 색칠되어 있고, 변을 공유하는 두 개의 사각형은 다른 색으로 칠해져 있어야 한다. 따라서 이 정의를 따르면 체스판을 색칠하는 경우는 두 가지뿐이다. 하나는 맨 왼쪽 위 칸이 흰색인 경우, 하나는 검은색인 경우이다.\n",
    "\n",
    "보드가 체스판처럼 칠해져 있다는 보장이 없어서, 지민이는 8×8 크기의 체스판으로 잘라낸 후에 몇 개의 정사각형을 다시 칠해야겠다고 생각했다. 당연히 8*8 크기는 아무데서나 골라도 된다. 지민이가 다시 칠해야 하는 정사각형의 최소 개수를 구하는 프로그램을 작성하시오."
   ]
  },
  {
   "cell_type": "code",
   "execution_count": 46,
   "metadata": {},
   "outputs": [
    {
     "name": "stdout",
     "output_type": "stream",
     "text": [
      "100000000000000000000\n"
     ]
    }
   ],
   "source": [
    "# 8*8의 chess board 만들기\n",
    "# 완전한 chess board를 만들기 위해 최소한으로 칠하는 경우 찾기\n",
    "\n",
    "# n, m = map(int, input().split())\n",
    "# chess = []\n",
    "# for _ in range(n):\n",
    "#     chess.append(list(str(input())))\n",
    "import numpy as np\n",
    "n, m = 8, 8\n",
    "chess = [\n",
    "    ['W','B','W','B','W','B','W','B'],\n",
    "    ['B','W','B','W','B','W','B','W'],\n",
    "    ['W','B','W','B','W','B','W','B'],\n",
    "    ['B','W','B','W','B','W','B','W'],\n",
    "    ['W','B','W','B','W','B','W','B'],\n",
    "    ['B','W','B','B','B','W','B','W'],\n",
    "    ['W','B','W','B','W','B','W','B'],\n",
    "    ['B','W','B','W','B','W','B','W'],\n",
    "]\n",
    "chess = [[1 if j == \"W\" else 0 for j in i] for i in chess]\n",
    "\n",
    "gt_chess_w = [\n",
    "    ['W','B','W','B','W','B','W','B'],\n",
    "    ['B','W','B','W','B','W','B','W'],\n",
    "    ['W','B','W','B','W','B','W','B'],\n",
    "    ['B','W','B','W','B','W','B','W'],\n",
    "    ['W','B','W','B','W','B','W','B'],\n",
    "    ['B','W','B','W','B','W','B','W'],\n",
    "    ['W','B','W','B','W','B','W','B'],\n",
    "    ['B','W','B','W','B','W','B','W'],\n",
    "]\n",
    "gt_chess_b = [\n",
    "    ['B','W','B','W','B','W','B','W'],\n",
    "    ['W','B','W','B','W','B','W','B'],\n",
    "    ['B','W','B','W','B','W','B','W'],\n",
    "    ['W','B','W','B','W','B','W','B'],\n",
    "    ['B','W','B','W','B','W','B','W'],\n",
    "    ['W','B','W','B','W','B','W','B'],\n",
    "    ['B','W','B','W','B','W','B','W'],\n",
    "    ['W','B','W','B','W','B','W','B'],\n",
    "]\n",
    "\n",
    "height = len(chess)\n",
    "width = len(chess[0])\n",
    "min_sum = 100**10\n",
    "chess = np.array(chess)\n",
    "for w in range(width-7):\n",
    "    for h in range(height-7):\n",
    "        pick_chess = chess[h:h+8][w:w+8]\n",
    "        temp = np.abs(pick_chess.sum(axis=1) - np.array([4,4,4,4,4,4,4,4])).sum()\n",
    "        if temp < min_sum:\n",
    "            min_sum = temp\n",
    "print(min_sum)"
   ]
  },
  {
   "cell_type": "code",
   "execution_count": 25,
   "metadata": {},
   "outputs": [],
   "source": [
    "import numpy as np\n",
    "chess = np.array(chess)"
   ]
  },
  {
   "cell_type": "code",
   "execution_count": 35,
   "metadata": {},
   "outputs": [
    {
     "data": {
      "text/plain": [
       "np.int64(1)"
      ]
     },
     "execution_count": 35,
     "metadata": {},
     "output_type": "execute_result"
    }
   ],
   "source": [
    "sum(np.abs(chess.sum(axis=1) - np.array([4,4,4,4,4,4,4,4])))"
   ]
  },
  {
   "cell_type": "code",
   "execution_count": 31,
   "metadata": {},
   "outputs": [
    {
     "data": {
      "text/plain": [
       "array([[0, 1, 0, 1, 0, 1, 0, 1],\n",
       "       [0, 1, 0, 1, 0, 1, 0, 1],\n",
       "       [0, 1, 0, 0, 0, 1, 0, 1],\n",
       "       [0, 1, 0, 1, 0, 1, 0, 1]])"
      ]
     },
     "execution_count": 31,
     "metadata": {},
     "output_type": "execute_result"
    }
   ],
   "source": [
    "chess[[1,3,5,7]]"
   ]
  },
  {
   "cell_type": "code",
   "execution_count": 28,
   "metadata": {},
   "outputs": [
    {
     "data": {
      "text/plain": [
       "array([[1, 0, 1, 0, 1, 0, 1, 0],\n",
       "       [1, 0, 1, 0, 1, 0, 1, 0],\n",
       "       [1, 0, 1, 0, 1, 0, 1, 0],\n",
       "       [1, 0, 1, 0, 1, 0, 1, 0]])"
      ]
     },
     "execution_count": 28,
     "metadata": {},
     "output_type": "execute_result"
    }
   ],
   "source": [
    "chess[[0,2,4,6]]"
   ]
  }
 ],
 "metadata": {
  "kernelspec": {
   "display_name": "Python 3",
   "language": "python",
   "name": "python3"
  },
  "language_info": {
   "codemirror_mode": {
    "name": "ipython",
    "version": 3
   },
   "file_extension": ".py",
   "mimetype": "text/x-python",
   "name": "python",
   "nbconvert_exporter": "python",
   "pygments_lexer": "ipython3",
   "version": "3.10.11"
  }
 },
 "nbformat": 4,
 "nbformat_minor": 2
}
