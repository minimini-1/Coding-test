{
 "cells": [
  {
   "cell_type": "markdown",
   "metadata": {},
   "source": [
    "상근이는 요즘 설탕공장에서 설탕을 배달하고 있다. 상근이는 지금 사탕가게에 설탕을 정확하게 N킬로그램을 배달해야 한다. 설탕공장에서 만드는 설탕은 봉지에 담겨져 있다. 봉지는 3킬로그램 봉지와 5킬로그램 봉지가 있다.\n",
    "\n",
    "상근이는 귀찮기 때문에, 최대한 적은 봉지를 들고 가려고 한다. 예를 들어, 18킬로그램 설탕을 배달해야 할 때, 3킬로그램 봉지 6개를 가져가도 되지만, 5킬로그램 3개와 3킬로그램 1개를 배달하면, 더 적은 개수의 봉지를 배달할 수 있다.\n",
    "\n",
    "상근이가 설탕을 정확하게 N킬로그램 배달해야 할 때, 봉지 몇 개를 가져가면 되는지 그 수를 구하는 프로그램을 작성하시오."
   ]
  },
  {
   "cell_type": "code",
   "execution_count": 24,
   "metadata": {},
   "outputs": [
    {
     "name": "stdout",
     "output_type": "stream",
     "text": [
      "259\n"
     ]
    }
   ],
   "source": [
    "# 봉지: 3, 5kg\n",
    "# min(num(봉지))\n",
    "\n",
    "# n = 4\n",
    "n = int(input())\n",
    "left = n % 5\n",
    "if left == 1:\n",
    "    if n >= left + 5:\n",
    "        left = left + 5\n",
    "        print((n // 5 - 1) + left // 3)\n",
    "    else:\n",
    "        print(-1)\n",
    "elif left == 2:\n",
    "    if n >= left + 10:\n",
    "        left = left + 5*2\n",
    "        print((n // 5 - 2) + left // 3)\n",
    "    else:\n",
    "        print(-1)\n",
    "elif left == 3:\n",
    "    print((n // 5) + left // 3)\n",
    "elif left == 4:\n",
    "    if n >= left + 5:        \n",
    "        left = left + 5\n",
    "        print((n // 5 - 1) + left // 3)\n",
    "    else:\n",
    "        print(-1)\n",
    "else:\n",
    "    print(n // 5)"
   ]
  },
  {
   "cell_type": "markdown",
   "metadata": {},
   "source": [
    "### 오답노트\n",
    "> 틀린 이유: case by case로 접근하였지만, \\\n",
    "> left가 2일 때 3으로 나눠떨어지는 경우를 면밀히 검토하지 못함 \\\n",
    "> n이 작은 경우 ex. left == 1인데 n 이 1인 경우 -1로 반환해야하는데 이에 대한 예외처리 부족 \\\n",
    "> 완전히 나눠떨어지는 경우인 left == 0에 대한 예외처리 부족"
   ]
  }
 ],
 "metadata": {
  "kernelspec": {
   "display_name": "Python 3",
   "language": "python",
   "name": "python3"
  },
  "language_info": {
   "codemirror_mode": {
    "name": "ipython",
    "version": 3
   },
   "file_extension": ".py",
   "mimetype": "text/x-python",
   "name": "python",
   "nbconvert_exporter": "python",
   "pygments_lexer": "ipython3",
   "version": "3.10.11"
  }
 },
 "nbformat": 4,
 "nbformat_minor": 2
}
