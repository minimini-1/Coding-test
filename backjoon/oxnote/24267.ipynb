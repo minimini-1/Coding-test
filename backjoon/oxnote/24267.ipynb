{
 "cells": [
  {
   "cell_type": "markdown",
   "metadata": {},
   "source": [
    "오늘도 서준이는 알고리즘의 수행시간 수업 조교를 하고 있다. 아빠가 수업한 내용을 학생들이 잘 이해했는지 문제를 통해서 확인해보자.\n",
    "\n",
    "입력의 크기 n이 주어지면 MenOfPassion 알고리즘 수행 시간을 예제 출력과 같은 방식으로 출력해보자.\n",
    "\n",
    "MenOfPassion 알고리즘은 다음과 같다.\n",
    "\n",
    "MenOfPassion(A[], n) {\n",
    "    sum <- 0;\n",
    "    for i <- 1 to n - 2\n",
    "        for j <- i + 1 to n - 1\n",
    "            for k <- j + 1 to n\n",
    "                sum <- sum + A[i] × A[j] × A[k]; # 코드1\n",
    "    return sum;\n",
    "}"
   ]
  },
  {
   "cell_type": "code",
   "execution_count": 12,
   "metadata": {},
   "outputs": [
    {
     "name": "stdout",
     "output_type": "stream",
     "text": [
      "35\n",
      "3\n"
     ]
    }
   ],
   "source": [
    "def menofpassion(n):\n",
    "    cnt = 0\n",
    "    for i in range(n-2):\n",
    "        cnt = cnt + (n-2-i) * (n-(n-2-i)-1)\n",
    "    print(cnt)\n",
    "    \n",
    "n = int(input())\n",
    "menofpassion(n)\n",
    "print(3)"
   ]
  },
  {
   "cell_type": "markdown",
   "metadata": {},
   "source": [
    "### 오답노트\n",
    "> 점화식처럼 간단하게 시작해서 공식을 도출하기 \\\n",
    "> n이 7일 때 \\\n",
    "> i=0,1,2,3,4,5 \\\n",
    "> j=1,2,3,4,5,6 \\\n",
    "> k=2,3,4,5,6,7 \\\n",
    "6개의 숫자 중에서 각각 1개씩 총 3개를 조합으로 뽑는 경우를 의미함 \\\n",
    "조합은 순서를 고려하지 않기 때문에 뽑은 숫자에 대해서 정렬된 상태로 간주할 수 있음"
   ]
  },
  {
   "cell_type": "code",
   "execution_count": 15,
   "metadata": {},
   "outputs": [
    {
     "name": "stdout",
     "output_type": "stream",
     "text": [
      "35\n",
      "3\n"
     ]
    }
   ],
   "source": [
    "n = int(input())\n",
    "print(int((n)*(n-1)*(n-2) / 6))\n",
    "print(3)"
   ]
  },
  {
   "cell_type": "markdown",
   "metadata": {},
   "source": [
    "> 시그마로 나타내기 \\\n",
    "> n=7일 때, \\\n",
    "> i는 1부터 5까지임 \\\n",
    "> 이 때, j=2 -> k=3..7 (5개, 7-3+1) \\\n",
    ">        j=3 -> k=4..7 (4개, 7-4+1) \\\n",
    ">        j=5 -> k=6, 7 (2개, 7-6+1) \\\n",
    "> 그래서, i가 1일 때 5+4+3+2+1 \\\n",
    "> i가 2일 때 4+3+2+1 \\\n",
    "> (n-2) sigma k=1 {(k)*(k+1)/2} \\\n",
    "> 앞의 식은 i의 반복, sigma 안의 식은 k의 반복"
   ]
  },
  {
   "cell_type": "code",
   "execution_count": 26,
   "metadata": {},
   "outputs": [
    {
     "name": "stdout",
     "output_type": "stream",
     "text": [
      "35\n",
      "3\n"
     ]
    }
   ],
   "source": [
    "n = int(input())\n",
    "print(int(((n-2)*(n-1)*(2*n-3) + 3*(n-2)*(n-1)) / 12))\n",
    "print(3)"
   ]
  }
 ],
 "metadata": {
  "kernelspec": {
   "display_name": "Python 3",
   "language": "python",
   "name": "python3"
  },
  "language_info": {
   "codemirror_mode": {
    "name": "ipython",
    "version": 3
   },
   "file_extension": ".py",
   "mimetype": "text/x-python",
   "name": "python",
   "nbconvert_exporter": "python",
   "pygments_lexer": "ipython3",
   "version": "3.10.11"
  }
 },
 "nbformat": 4,
 "nbformat_minor": 2
}
