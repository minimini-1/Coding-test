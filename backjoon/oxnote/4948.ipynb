{
 "cells": [
  {
   "cell_type": "markdown",
   "metadata": {},
   "source": [
    "베르트랑 공준은 임의의 자연수 n에 대하여, n보다 크고, 2n보다 작거나 같은 소수는 적어도 하나 존재한다는 내용을 담고 있다.\n",
    "\n",
    "이 명제는 조제프 베르트랑이 1845년에 추측했고, 파프누티 체비쇼프가 1850년에 증명했다.\n",
    "\n",
    "예를 들어, 10보다 크고, 20보다 작거나 같은 소수는 4개가 있다. (11, 13, 17, 19) 또, 14보다 크고, 28보다 작거나 같은 소수는 3개가 있다. (17,19, 23)\n",
    "\n",
    "자연수 n이 주어졌을 때, n보다 크고, 2n보다 작거나 같은 소수의 개수를 구하는 프로그램을 작성하시오. "
   ]
  },
  {
   "cell_type": "code",
   "execution_count": 11,
   "metadata": {},
   "outputs": [
    {
     "name": "stdout",
     "output_type": "stream",
     "text": [
      "1\n",
      "4\n",
      "3\n",
      "21\n",
      "135\n",
      "1033\n"
     ]
    }
   ],
   "source": [
    "# 에라토스테네스의 체의 역버전\n",
    "def rev_find_prime(x):\n",
    "    if x < 2:\n",
    "        return True\n",
    "    else:\n",
    "        for i in range(2, int(x**(0.5) + 1), 1):\n",
    "            if x%i == 0:\n",
    "                return True\n",
    "        return False\n",
    "    \n",
    "while True:\n",
    "    cnt = 0\n",
    "    input_num = int(input())\n",
    "    if input_num == 0:\n",
    "        break\n",
    "    for j in range(input_num+1, input_num * 2 + 1, 1):\n",
    "        if not rev_find_prime(j):\n",
    "            # print(j, end = \" \")\n",
    "            cnt += 1\n",
    "    print(cnt)"
   ]
  },
  {
   "cell_type": "markdown",
   "metadata": {},
   "source": [
    "## 오답노트\n",
    "> 이렇게 해도 시간초과로 인해 안됨"
   ]
  },
  {
   "cell_type": "code",
   "execution_count": 23,
   "metadata": {},
   "outputs": [
    {
     "name": "stdout",
     "output_type": "stream",
     "text": [
      "3\n"
     ]
    }
   ],
   "source": [
    "num = 123456*2 + 1\n",
    "num_list = [1] * num\n",
    "\n",
    "for i in range(1, num):\n",
    "    if i == 1:\n",
    "        continue\n",
    "    else:        \n",
    "        for j in range(2, int(i**(0.5)+1), 1):\n",
    "            if i % j == 0:\n",
    "                num_list[i] = 0\n",
    "                break\n",
    "    \n",
    "while True:\n",
    "    n = int(input())\n",
    "    if n == 0:\n",
    "        break\n",
    "\n",
    "    cnt = 0\n",
    "    for k in range(n+1, n*2+1):\n",
    "        cnt += num_list[k]\n",
    "    print(cnt)"
   ]
  }
 ],
 "metadata": {
  "kernelspec": {
   "display_name": "Python 3",
   "language": "python",
   "name": "python3"
  },
  "language_info": {
   "codemirror_mode": {
    "name": "ipython",
    "version": 3
   },
   "file_extension": ".py",
   "mimetype": "text/x-python",
   "name": "python",
   "nbconvert_exporter": "python",
   "pygments_lexer": "ipython3",
   "version": "3.10.11"
  }
 },
 "nbformat": 4,
 "nbformat_minor": 2
}
