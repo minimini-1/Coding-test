{
 "cells": [
  {
   "cell_type": "markdown",
   "metadata": {},
   "source": [
    "직선으로 되어있는 도로의 한 편에 가로수가 임의의 간격으로 심어져있다. KOI 시에서는 가로수들이 모두 같은 간격이 되도록 가로수를 추가로 심는 사업을 추진하고 있다. KOI 시에서는 예산문제로 가능한 한 가장 적은 수의 나무를 심고 싶다.\n",
    "\n",
    "편의상 가로수의 위치는 기준점으로 부터 떨어져 있는 거리로 표현되며, 가로수의 위치는 모두 양의 정수이다.\n",
    "\n",
    "예를 들어, 가로수가 (1, 3, 7, 13)의 위치에 있다면 (5, 9, 11)의 위치에 가로수를 더 심으면 모든 가로수들의 간격이 같게 된다. 또한, 가로수가 (2, 6, 12, 18)에 있다면 (4, 8, 10, 14, 16)에 가로수를 더 심어야 한다.\n",
    "\n",
    "심어져 있는 가로수의 위치가 주어질 때, 모든 가로수가 같은 간격이 되도록 새로 심어야 하는 가로수의 최소수를 구하는 프로그램을 작성하라. 단, 추가되는 나무는 기존의 나무들 사이에만 심을 수 있다."
   ]
  },
  {
   "cell_type": "code",
   "execution_count": null,
   "metadata": {},
   "outputs": [
    {
     "name": "stdout",
     "output_type": "stream",
     "text": [
      "2\n"
     ]
    }
   ],
   "source": [
    "# import sys\n",
    "# input = sys.stdin.readline\n",
    "n = int(input())\n",
    "light_list = []\n",
    "light_diff_list = []\n",
    "for _ in range(n):\n",
    "    temp = int(input())\n",
    "    light_list.append(temp)\n",
    "    if len(light_list) >= 2:\n",
    "        light_diff_list.append(int(temp - temp2))\n",
    "    temp2 = temp\n",
    "    \n",
    "def gcd(a, b):\n",
    "    while b > 0:\n",
    "        a, b = b, a%b\n",
    "    return a\n",
    "\n",
    "# light_list.sort()\n",
    "light_gcd = light_diff_list[0]\n",
    "for i in range(len(light_diff_list) - 1):\n",
    "    light_gcd = gcd(light_gcd, light_diff_list[i+1])\n",
    "\n",
    "# 길이 재서 프린트 하는 방식으로 하면 메모리 초과됨\n",
    "# print(len(list(range(min(light_list), max(light_list)+light_gcd, light_gcd))) - len(light_list))\n",
    "cnt = 0\n",
    "for j in light_diff_list:\n",
    "    cnt += j // light_gcd - 1\n",
    "print(cnt)"
   ]
  }
 ],
 "metadata": {
  "kernelspec": {
   "display_name": "Python 3",
   "language": "python",
   "name": "python3"
  },
  "language_info": {
   "codemirror_mode": {
    "name": "ipython",
    "version": 3
   },
   "file_extension": ".py",
   "mimetype": "text/x-python",
   "name": "python",
   "nbconvert_exporter": "python",
   "pygments_lexer": "ipython3",
   "version": "3.10.11"
  }
 },
 "nbformat": 4,
 "nbformat_minor": 2
}
