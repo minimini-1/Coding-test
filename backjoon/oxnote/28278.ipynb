{
 "cells": [
  {
   "cell_type": "markdown",
   "metadata": {},
   "source": [
    "정수를 저장하는 스택을 구현한 다음, 입력으로 주어지는 명령을 처리하는 프로그램을 작성하시오.\n",
    "\n",
    "명령은 총 다섯 가지이다.\n",
    "\n",
    "1 X: 정수 X를 스택에 넣는다. (1 ≤ X ≤ 100,000)\n",
    "2: 스택에 정수가 있다면 맨 위의 정수를 빼고 출력한다. 없다면 -1을 대신 출력한다.\n",
    "3: 스택에 들어있는 정수의 개수를 출력한다.\n",
    "4: 스택이 비어있으면 1, 아니면 0을 출력한다.\n",
    "5: 스택에 정수가 있다면 맨 위의 정수를 출력한다. 없다면 -1을 대신 출력한다."
   ]
  },
  {
   "cell_type": "code",
   "execution_count": null,
   "metadata": {},
   "outputs": [
    {
     "name": "stdout",
     "output_type": "stream",
     "text": [
      "1\n",
      "2\n",
      "5\n",
      "3\n",
      "3\n",
      "-1\n",
      "-1\n"
     ]
    }
   ],
   "source": [
    "# import sys\n",
    "# input = sys.stdin.readline\n",
    "n = int(input())\n",
    "input_stack = []\n",
    "for _ in range(n):\n",
    "    # order = input()\n",
    "    order = list(map(int, input().split()))\n",
    "    # if len(order) == 3: # 1 인 경우\n",
    "    if order[0] == 1:\n",
    "        input_stack.append(order[1])\n",
    "    elif order[0] == 2:\n",
    "        if input_stack:\n",
    "            print(input_stack.pop())\n",
    "        else:            \n",
    "            print(-1)\n",
    "    elif order[0] == 3:\n",
    "        print(len(input_stack))\n",
    "    elif order[0] == 4:\n",
    "        if input_stack:\n",
    "            print(0)\n",
    "        else:\n",
    "            print(1)    \n",
    "    elif order[0] == 5:\n",
    "        if input_stack:\n",
    "            print(input_stack[-1])\n",
    "        else:\n",
    "            print(-1)"
   ]
  },
  {
   "cell_type": "markdown",
   "metadata": {},
   "source": [
    "## 오답노트\n",
    "> 1 3 이렇게 받는 과정에서 문자열로 받는 방법보다 그냥 리스트로 받아서 해도 풀 수 있음 (이게 맞음)"
   ]
  },
  {
   "cell_type": "code",
   "execution_count": 16,
   "metadata": {},
   "outputs": [
    {
     "data": {
      "text/plain": [
       "3"
      ]
     },
     "execution_count": 16,
     "metadata": {},
     "output_type": "execute_result"
    }
   ],
   "source": [
    "indd = [1,3,43,4]\n",
    "indd.pop(-1)\n",
    "indd.pop(-1)\n",
    "indd.pop(-1)\n",
    "# indd.pop(-1)\n",
    "if indd:\n",
    "    print('d')\n",
    "    # 이렇게 리스트가 존재하는지 확인 가능"
   ]
  },
  {
   "cell_type": "code",
   "execution_count": 17,
   "metadata": {},
   "outputs": [
    {
     "name": "stdout",
     "output_type": "stream",
     "text": [
      "d\n"
     ]
    }
   ],
   "source": []
  }
 ],
 "metadata": {
  "kernelspec": {
   "display_name": "Python 3",
   "language": "python",
   "name": "python3"
  },
  "language_info": {
   "codemirror_mode": {
    "name": "ipython",
    "version": 3
   },
   "file_extension": ".py",
   "mimetype": "text/x-python",
   "name": "python",
   "nbconvert_exporter": "python",
   "pygments_lexer": "ipython3",
   "version": "3.10.11"
  }
 },
 "nbformat": 4,
 "nbformat_minor": 2
}
