{
 "cells": [
  {
   "cell_type": "markdown",
   "metadata": {},
   "source": [
    "정수를 저장하는 큐를 구현한 다음, 입력으로 주어지는 명령을 처리하는 프로그램을 작성하시오.\n",
    "\n",
    "명령은 총 여섯 가지이다.\n",
    "\n",
    "push X: 정수 X를 큐에 넣는 연산이다.\n",
    "pop: 큐에서 가장 앞에 있는 정수를 빼고, 그 수를 출력한다. 만약 큐에 들어있는 정수가 없는 경우에는 -1을 출력한다.\n",
    "size: 큐에 들어있는 정수의 개수를 출력한다.\n",
    "empty: 큐가 비어있으면 1, 아니면 0을 출력한다.\n",
    "front: 큐의 가장 앞에 있는 정수를 출력한다. 만약 큐에 들어있는 정수가 없는 경우에는 -1을 출력한다.\n",
    "back: 큐의 가장 뒤에 있는 정수를 출력한다. 만약 큐에 들어있는 정수가 없는 경우에는 -1을 출력한다."
   ]
  },
  {
   "cell_type": "code",
   "execution_count": 1,
   "metadata": {},
   "outputs": [
    {
     "name": "stdout",
     "output_type": "stream",
     "text": [
      "deque([1, 2, 3])\n",
      "deque([1, 1, 2, 3])\n",
      "deque([1, 1, 2, 3, 4])\n",
      "deque([1, 1, 2, 3])\n",
      "deque([1, 2, 3])\n"
     ]
    }
   ],
   "source": [
    "from collections import deque\n",
    "\n",
    "data = deque([1,2,3])\n",
    "print(data)\n",
    "data.appendleft(1)\n",
    "print(data)\n",
    "data.append(4)\n",
    "print(data)\n",
    "data.pop()\n",
    "print(data)\n",
    "data.popleft()\n",
    "print(data)"
   ]
  },
  {
   "cell_type": "code",
   "execution_count": 4,
   "metadata": {},
   "outputs": [
    {
     "name": "stdout",
     "output_type": "stream",
     "text": [
      "1\n",
      "2\n",
      "2\n",
      "0\n",
      "1\n",
      "2\n",
      "-1\n",
      "0\n",
      "1\n",
      "-1\n",
      "0\n",
      "3\n"
     ]
    }
   ],
   "source": [
    "from collections import deque\n",
    "import sys\n",
    "input = sys.stdin.readline\n",
    "\n",
    "n = int(input())\n",
    "que_list = deque()\n",
    "for _ in range(n):\n",
    "    order = list(input().split())\n",
    "    if order[0] == 'push':\n",
    "        que_list.append(order[1])\n",
    "    elif order[0] == 'pop':\n",
    "        if que_list:\n",
    "            print(que_list.popleft())\n",
    "        else:\n",
    "            print(-1)\n",
    "    elif order[0] == 'size':\n",
    "        print(len(que_list))\n",
    "    elif order[0] == 'empty':\n",
    "        if que_list:\n",
    "            print(0)\n",
    "        else:\n",
    "            print(1)\n",
    "    elif order[0] == 'front':\n",
    "        if que_list:\n",
    "            print(que_list[0])\n",
    "        else:\n",
    "            print(-1)\n",
    "    elif order[0] == 'back':\n",
    "        if que_list:\n",
    "            print(que_list[-1])\n",
    "        else:\n",
    "            print(-1)"
   ]
  }
 ],
 "metadata": {
  "kernelspec": {
   "display_name": "Python 3",
   "language": "python",
   "name": "python3"
  },
  "language_info": {
   "codemirror_mode": {
    "name": "ipython",
    "version": 3
   },
   "file_extension": ".py",
   "mimetype": "text/x-python",
   "name": "python",
   "nbconvert_exporter": "python",
   "pygments_lexer": "ipython3",
   "version": "3.10.11"
  }
 },
 "nbformat": 4,
 "nbformat_minor": 2
}
