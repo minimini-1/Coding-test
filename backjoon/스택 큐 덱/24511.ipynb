{
 "cells": [
  {
   "cell_type": "markdown",
   "metadata": {},
   "source": [
    "한가롭게 방학에 놀고 있던 도현이는 갑자기 재밌는 자료구조를 생각해냈다. 그 자료구조의 이름은 queuestack이다.\n",
    "\n",
    "queuestack의 구조는 다음과 같다. \n",
    "$1$번, \n",
    "$2$번, ... , \n",
    "$N$번의 자료구조(queue 혹은 stack)가 나열되어있으며, 각각의 자료구조에는 한 개의 원소가 들어있다.\n",
    "\n",
    "queuestack의 작동은 다음과 같다.\n",
    "\n",
    " \n",
    "$x_0$을 입력받는다.\n",
    " \n",
    "$x_0$을 \n",
    "$1$번 자료구조에 삽입한 뒤 \n",
    "$1$번 자료구조에서 원소를 pop한다. 그때 pop된 원소를 \n",
    "$x_1$이라 한다.\n",
    " \n",
    "$x_1$을 \n",
    "$2$번 자료구조에 삽입한 뒤 \n",
    "$2$번 자료구조에서 원소를 pop한다. 그때 pop된 원소를 \n",
    "$x_2$이라 한다.\n",
    "...\n",
    " \n",
    "$x_{N-1}$을 \n",
    "$N$번 자료구조에 삽입한 뒤 \n",
    "$N$번 자료구조에서 원소를 pop한다. 그때 pop된 원소를 \n",
    "$x_N$이라 한다.\n",
    " \n",
    "$x_N$을 리턴한다.\n",
    "도현이는 길이 \n",
    "$M$의 수열 \n",
    "$C$를 가져와서 수열의 원소를 앞에서부터 차례대로 queuestack에 삽입할 것이다. 이전에 삽입한 결과는 남아 있다. (예제 \n",
    "$1$ 참고)\n",
    "\n",
    "queuestack에 넣을 원소들이 주어졌을 때, 해당 원소를 넣은 리턴값을 출력하는 프로그램을 작성해보자."
   ]
  },
  {
   "cell_type": "code",
   "execution_count": 22,
   "metadata": {},
   "outputs": [
    {
     "name": "stdout",
     "output_type": "stream",
     "text": [
      "1 2 3 "
     ]
    }
   ],
   "source": [
    "n = int(input())\n",
    "a_stack = list(map(int, input().split()))\n",
    "b_stack = [[x] for x in map(int, input().split())]\n",
    "length = int(input())\n",
    "input_stack = list(map(int, input().split()))\n",
    "# n = 5\n",
    "# a_stack = [1,1,1,1,1]\n",
    "# b_stack = [[1],[2],[3],[4],[5]]\n",
    "# length = 3\n",
    "# input_stack = [1,3,5]\n",
    "\n",
    "qu_idx_list = [idx for idx, a in enumerate(a_stack) if a_stack[a] == 0]\n",
    "for inp in input_stack:\n",
    "    for i in qu_idx_list:\n",
    "        if a_stack[i] == 0:\n",
    "            b_stack[i].append(inp)\n",
    "            inp = b_stack[i].pop(0)\n",
    "    print(inp, end=' ')"
   ]
  },
  {
   "cell_type": "code",
   "execution_count": 35,
   "metadata": {},
   "outputs": [
    {
     "name": "stdout",
     "output_type": "stream",
     "text": [
      "4 1 2 "
     ]
    }
   ],
   "source": [
    "from collections import deque\n",
    "n = int(input())\n",
    "a_stack = list(map(int, input().split()))\n",
    "b_stack = list(map(int, input().split()))\n",
    "length = int(input())\n",
    "input_stack = list(map(int, input().split()))\n",
    "# n = 4\n",
    "# a_stack = [0,1,1,0]\n",
    "# b_stack = [1,2,3,4]\n",
    "# length = 3\n",
    "# input_stack = [2,4,7]\n",
    "\n",
    "qu_b_stack = [b for idx, b in enumerate(b_stack) if a_stack[idx] == 0]\n",
    "qu_b_stack.reverse()\n",
    "qu_b_stack = deque(qu_b_stack)\n",
    "if qu_b_stack:\n",
    "    for i in range(length):\n",
    "        qu_b_stack.append(input_stack[i])\n",
    "        print(qu_b_stack.popleft(), end=\" \")\n",
    "else:\n",
    "    print(*input_stack)"
   ]
  }
 ],
 "metadata": {
  "kernelspec": {
   "display_name": "Python 3",
   "language": "python",
   "name": "python3"
  },
  "language_info": {
   "codemirror_mode": {
    "name": "ipython",
    "version": 3
   },
   "file_extension": ".py",
   "mimetype": "text/x-python",
   "name": "python",
   "nbconvert_exporter": "python",
   "pygments_lexer": "ipython3",
   "version": "3.10.11"
  }
 },
 "nbformat": 4,
 "nbformat_minor": 2
}
