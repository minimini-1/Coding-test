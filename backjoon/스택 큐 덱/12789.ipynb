{
 "cells": [
  {
   "cell_type": "markdown",
   "metadata": {},
   "source": [
    "인하대학교 학생회에서는 중간, 기말고사 때마다 시험 공부에 지친 학우들을 위해 간식을 나눠주는 간식 드리미 행사를 실시한다. 승환이는 시험 기간이 될 때마다 간식을 받을 생각에 두근두근 설레서 시험 공부에 집중을 못 한다. 이번 중간고사에서도 역시 승환이는 설레는 가슴을 안고 간식을 받기 위해 미리 공지된 장소에 시간 맞춰 도착했다. 그런데 이게 무슨 날벼락인가! 그 곳에는 이미 모든 학생들이 모여있었고, 승환이는 마지막 번호표를 받게 되었다. 설상가상으로 몇몇 양심에 털이 난 학생들이 새치기를 거듭한 끝에 대기열의 순서마저 엉망이 되고 말았다. 간식을 나눠주고 있던 인규는 학우들의 터져 나오는 불만에 번호표 순서로만 간식을 줄 수 있다고 말했다. \n",
    "\n",
    "그제야 학생들이 순서대로 줄을 서려고 했지만 공간이 너무 협소해서 마음대로 이동할 수 없었다. 다행히도 대기열의 왼쪽에는 1열로 설 수 있는 공간이 존재하여 이 공간을 잘 이용하면 모두가 순서대로 간식을 받을 수 있을지도 모른다. 자칫 간식을 못 받게 될지도 모른다는 위기감을 느낀 승환이는 자신의 컴퓨터 알고리즘적 지식을 활용해 과연 모든 사람들이 순서대로 간식을 받을 수 있는지 확인하는 프로그램을 만들기로 했다. 만약 불가능 하다면 승환이는 이번 중간고사를 망치게 될 것 이고 가능하다면 힘을 얻어 중간고사를 잘 볼 수 있을지도 모른다.\n",
    "\n",
    "사람들은 현재 1열로 줄을 서있고, 맨 앞의 사람만 이동이 가능하다. 인규는 번호표 순서대로만 통과할 수 있는 라인을 만들어 두었다. 이 라인과 대기열의 맨 앞 사람 사이에는 한 사람씩 1열이 들어갈 수 있는 공간이 있다. 현재 대기열의 사람들은 이 공간으로 올 수 있지만 반대는 불가능하다. 승환이를 도와 프로그램을 완성하라.\n",
    "\n",
    "현재 간식 배부 공간을 그림으로 나타내면 다음과 같다.\n",
    "\n",
    "\n",
    "\n",
    "위 예제는 다음 그림과 같이 움직였을 때 모두가 순서대로 간식을 받을 수 있다..\n",
    "\n"
   ]
  },
  {
   "cell_type": "code",
   "execution_count": 19,
   "metadata": {},
   "outputs": [
    {
     "name": "stdout",
     "output_type": "stream",
     "text": [
      "Nice\n"
     ]
    }
   ],
   "source": [
    "n = int(input())\n",
    "line_list = list(map(int, input().split()))\n",
    "# line_list = [6,5,4,1,3,2,7,10,9,8]\n",
    "# n = len(line_list)\n",
    "temp_line_list = []\n",
    "output_line_list = []\n",
    "sp_num = 1\n",
    "\n",
    "while sp_num != n+1:\n",
    "    if line_list and line_list[0] == sp_num:\n",
    "        output_line_list.append(line_list.pop(0))\n",
    "        sp_num += 1\n",
    "    elif temp_line_list and temp_line_list[-1] == sp_num:\n",
    "        output_line_list.append(temp_line_list.pop(-1))\n",
    "        sp_num += 1\n",
    "    else:\n",
    "        temp_line_list.append(line_list.pop(0))\n",
    "        if len(temp_line_list) >= 2 and temp_line_list[-2] < temp_line_list[-1]:\n",
    "            break\n",
    "if len(output_line_list) == n and not line_list and not temp_line_list:\n",
    "    print('Nice')\n",
    "else:\n",
    "    print('Sad')"
   ]
  },
  {
   "cell_type": "code",
   "execution_count": 13,
   "metadata": {},
   "outputs": [
    {
     "data": {
      "text/plain": [
       "[1, 2, 3, 4, 5, 6, 7, 8, 9]"
      ]
     },
     "execution_count": 13,
     "metadata": {},
     "output_type": "execute_result"
    }
   ],
   "source": [
    "output_line_list"
   ]
  },
  {
   "cell_type": "markdown",
   "metadata": {},
   "source": [
    "## 오답노트\n",
    "> while 문의 조건에 대해서 잘못 설정함 (제일 확실하게 끝나야하는조건, 문제의 해결 조건이 무엇인지에 대해서 생각해볼 것) \\\n",
    "> 그 다음 세 개의 조건문을 통해서 접근하는 방법 자체는 비슷함 \\\n",
    "> while 문이 끝나는 조건에 대해서 고민이 됐는데, 절대 정렬할 수 없는 경우에 대해 생각해볼 것"
   ]
  }
 ],
 "metadata": {
  "kernelspec": {
   "display_name": "Python 3",
   "language": "python",
   "name": "python3"
  },
  "language_info": {
   "codemirror_mode": {
    "name": "ipython",
    "version": 3
   },
   "file_extension": ".py",
   "mimetype": "text/x-python",
   "name": "python",
   "nbconvert_exporter": "python",
   "pygments_lexer": "ipython3",
   "version": "3.10.11"
  }
 },
 "nbformat": 4,
 "nbformat_minor": 2
}
