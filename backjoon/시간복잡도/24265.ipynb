{
 "cells": [
  {
   "cell_type": "markdown",
   "metadata": {},
   "source": [
    "오늘도 서준이는 알고리즘의 수행시간 수업 조교를 하고 있다. 아빠가 수업한 내용을 학생들이 잘 이해했는지 문제를 통해서 확인해보자.\n",
    "\n",
    "입력의 크기 n이 주어지면 MenOfPassion 알고리즘 수행 시간을 예제 출력과 같은 방식으로 출력해보자.\n",
    "\n",
    "MenOfPassion 알고리즘은 다음과 같다.\n",
    "\n",
    "MenOfPassion(A[], n) {\n",
    "    sum <- 0;\n",
    "    for i <- 1 to n - 1\n",
    "        for j <- i + 1 to n\n",
    "            sum <- sum + A[i] × A[j]; # 코드1\n",
    "    return sum;\n",
    "}"
   ]
  },
  {
   "cell_type": "code",
   "execution_count": 4,
   "metadata": {},
   "outputs": [
    {
     "name": "stdout",
     "output_type": "stream",
     "text": [
      "21\n",
      "2\n"
     ]
    }
   ],
   "source": [
    "# n = 7 일때\n",
    "# i = 1 이고 j = 2...7 (6개)\n",
    "# i = 2 이고 j = 3...7 (5개)\n",
    "# i = 6 이고 j = 7 (1개)\n",
    "# 6 + 5 + 4 + ... + 1 이 됨\n",
    "n = int(input())\n",
    "print(int((n-1)*n/2))\n",
    "print(2)"
   ]
  }
 ],
 "metadata": {
  "kernelspec": {
   "display_name": "Python 3",
   "language": "python",
   "name": "python3"
  },
  "language_info": {
   "codemirror_mode": {
    "name": "ipython",
    "version": 3
   },
   "file_extension": ".py",
   "mimetype": "text/x-python",
   "name": "python",
   "nbconvert_exporter": "python",
   "pygments_lexer": "ipython3",
   "version": "3.10.11"
  }
 },
 "nbformat": 4,
 "nbformat_minor": 2
}
