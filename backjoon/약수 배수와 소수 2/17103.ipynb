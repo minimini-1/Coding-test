{
 "cells": [
  {
   "cell_type": "markdown",
   "metadata": {},
   "source": [
    "골드바흐의 추측: 2보다 큰 짝수는 두 소수의 합으로 나타낼 수 있다.\n",
    "짝수 N을 두 소수의 합으로 나타내는 표현을 골드바흐 파티션이라고 한다. 짝수 N이 주어졌을 때, 골드바흐 파티션의 개수를 구해보자. 두 소수의 순서만 다른 것은 같은 파티션이다."
   ]
  },
  {
   "cell_type": "code",
   "execution_count": 28,
   "metadata": {},
   "outputs": [
    {
     "name": "stdout",
     "output_type": "stream",
     "text": [
      "1\n",
      "1\n",
      "2\n",
      "1\n",
      "6\n"
     ]
    }
   ],
   "source": [
    "def goldbach(x, num_list, idx, ban_list):\n",
    "    output_cnt = 0\n",
    "    for num in num_list:\n",
    "        if x-num == 0 and idx == 2:\n",
    "            if num in ban_list:\n",
    "                return 0\n",
    "            ban_list.append(num)\n",
    "            return 1\n",
    "        if x-num > 0 and idx == 1:\n",
    "            if num in ban_list:\n",
    "                continue\n",
    "            output_cnt += goldbach(x-num, num_list, idx+1, ban_list)\n",
    "            if output_cnt == 1:            \n",
    "                ban_list.append(num)\n",
    "    return output_cnt\n",
    "\n",
    "num = 1000000\n",
    "num_list = []\n",
    "flag = 0\n",
    "for i in range(1,num+1,1):\n",
    "    if i < 2:\n",
    "        continue\n",
    "    else:\n",
    "        for j in range(2, int(i**(0.5)+1), 1):\n",
    "            if i % j == 0:\n",
    "                flag = 1\n",
    "                break\n",
    "        if flag == 0:\n",
    "            num_list.append(i)\n",
    "        flag = 0\n",
    "            \n",
    "T = int(input())\n",
    "for i in range(T):\n",
    "    test_case = int(input())\n",
    "    ban_list = []    \n",
    "    print(goldbach(test_case, num_list, 1, ban_list))"
   ]
  },
  {
   "cell_type": "markdown",
   "metadata": {},
   "source": [
    "## 오답노트\n",
    "> 시간초과로 인해 틀림 \\\n",
    "> 앞의 소수를 미리 구하는 컨셉은 맞고, 뒤에 두 수의 합을 통해서 콜드바흐인 경우를 찾는 경우가 다름"
   ]
  },
  {
   "cell_type": "code",
   "execution_count": null,
   "metadata": {},
   "outputs": [
    {
     "name": "stdout",
     "output_type": "stream",
     "text": [
      "1\n",
      "2\n",
      "1\n",
      "6\n"
     ]
    },
    {
     "ename": "ValueError",
     "evalue": "invalid literal for int() with base 10: ''",
     "output_type": "error",
     "traceback": [
      "\u001b[1;31m---------------------------------------------------------------------------\u001b[0m",
      "\u001b[1;31mValueError\u001b[0m                                Traceback (most recent call last)",
      "Cell \u001b[1;32mIn[40], line 16\u001b[0m\n\u001b[0;32m     14\u001b[0m cnt \u001b[38;5;241m=\u001b[39m \u001b[38;5;241m0\u001b[39m\n\u001b[0;32m     15\u001b[0m \u001b[38;5;28;01mfor\u001b[39;00m i \u001b[38;5;129;01min\u001b[39;00m \u001b[38;5;28mrange\u001b[39m(T):\n\u001b[1;32m---> 16\u001b[0m     test_case \u001b[38;5;241m=\u001b[39m \u001b[38;5;28;43mint\u001b[39;49m\u001b[43m(\u001b[49m\u001b[38;5;28;43minput\u001b[39;49m\u001b[43m(\u001b[49m\u001b[43m)\u001b[49m\u001b[43m)\u001b[49m\n\u001b[0;32m     17\u001b[0m     \u001b[38;5;28;01mfor\u001b[39;00m p \u001b[38;5;129;01min\u001b[39;00m prime:\n\u001b[0;32m     18\u001b[0m         \u001b[38;5;28;01mif\u001b[39;00m p \u001b[38;5;241m>\u001b[39m test_case \u001b[38;5;241m/\u001b[39m\u001b[38;5;241m/\u001b[39m \u001b[38;5;241m2\u001b[39m:\n",
      "\u001b[1;31mValueError\u001b[0m: invalid literal for int() with base 10: ''"
     ]
    }
   ],
   "source": [
    "import sys\n",
    "input = sys.stdin.readline\n",
    "\n",
    "prime = []\n",
    "check = [True] * 1000001\n",
    "check[0] = False\n",
    "check[1] = False\n",
    "\n",
    "for i in range(2, 1000001):\n",
    "    if check[i]:\n",
    "        prime.append(i)\n",
    "        for j in range(2*i, 1000001, i):\n",
    "            # check[j] = 1\n",
    "            check[j] = False\n",
    "            \n",
    "T = int(input())\n",
    "cnt = 0\n",
    "for i in range(T):\n",
    "    test_case = int(input())\n",
    "    for p in prime:\n",
    "        if p > test_case // 2:\n",
    "            break\n",
    "        if check[test_case - p]:\n",
    "            cnt += 1\n",
    "    print(cnt)\n",
    "    cnt = 0"
   ]
  },
  {
   "cell_type": "code",
   "execution_count": 36,
   "metadata": {},
   "outputs": [
    {
     "name": "stdout",
     "output_type": "stream",
     "text": [
      "1\n",
      "1\n",
      "2\n",
      "1\n",
      "6\n"
     ]
    }
   ],
   "source": []
  }
 ],
 "metadata": {
  "kernelspec": {
   "display_name": "Python 3",
   "language": "python",
   "name": "python3"
  },
  "language_info": {
   "codemirror_mode": {
    "name": "ipython",
    "version": 3
   },
   "file_extension": ".py",
   "mimetype": "text/x-python",
   "name": "python",
   "nbconvert_exporter": "python",
   "pygments_lexer": "ipython3",
   "version": "3.10.11"
  }
 },
 "nbformat": 4,
 "nbformat_minor": 2
}
