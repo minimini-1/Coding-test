{
 "cells": [
  {
   "cell_type": "markdown",
   "metadata": {},
   "source": [
    "총 N개의 문자열로 이루어진 집합 S가 주어진다.\n",
    "\n",
    "입력으로 주어지는 M개의 문자열 중에서 집합 S에 포함되어 있는 것이 총 몇 개인지 구하는 프로그램을 작성하시오."
   ]
  },
  {
   "cell_type": "code",
   "execution_count": 5,
   "metadata": {},
   "outputs": [
    {
     "name": "stdout",
     "output_type": "stream",
     "text": [
      "4\n"
     ]
    }
   ],
   "source": [
    "# set 이나 dict를 이용해서 풀어야 시간 내에 풀 수 있음\n",
    "# list는 추가, 삭제에 O(n)이 걸리지만, set이나 dict의 경우 해쉬함수를 이용해 추가, 삭제에 O(1)이 걸림\n",
    "\n",
    "n, m = map(int, input().split())\n",
    "s_str_list, check_str_list = [], []\n",
    "for _ in range(n):\n",
    "    s_str_list.append(str(input()))\n",
    "for _ in range(m):\n",
    "    check_str_list.append(str(input()))\n",
    "# s_str_list = [\"baekjoononlinejudge\",\"startlink\",\"codeplus\",\"sundaycoding\",\"codingsh\"]\n",
    "# check_str_list = [\"baekjoon\",\"codeplus\",\"codeminus\",\"startlink\",\"starlink\",\"sundaycoding\",\"codingsh\",\"codinghs\",\"sondaycoding\",\"startrink\",\"icerink\"]\n",
    "    \n",
    "# check에서 s에 포함된 문자열의 갯수 출력\n",
    "s_dict = dict(zip(s_str_list, [1]*len(s_str_list)))\n",
    "cnt = 0\n",
    "for ch in check_str_list:\n",
    "    if ch in s_dict:\n",
    "        cnt += 1\n",
    "print(cnt)"
   ]
  },
  {
   "cell_type": "code",
   "execution_count": 8,
   "metadata": {},
   "outputs": [
    {
     "name": "stdout",
     "output_type": "stream",
     "text": [
      "4\n"
     ]
    }
   ],
   "source": [
    "# set을 활용하는 경우\n",
    "s_str_list = {\"baekjoononlinejudge\",\"startlink\",\"codeplus\",\"sundaycoding\",\"codingsh\"}\n",
    "check_str_list = {\"baekjoon\",\"codeplus\",\"codeminus\",\"startlink\",\"starlink\",\"sundaycoding\",\"codingsh\",\"codinghs\",\"sondaycoding\",\"startrink\",\"icerink\"}\n",
    "\n",
    "cnt = 0\n",
    "for ch in check_str_list:\n",
    "    if ch in s_str_list:\n",
    "        cnt += 1\n",
    "print(cnt)"
   ]
  }
 ],
 "metadata": {
  "kernelspec": {
   "display_name": "Python 3",
   "language": "python",
   "name": "python3"
  },
  "language_info": {
   "codemirror_mode": {
    "name": "ipython",
    "version": 3
   },
   "file_extension": ".py",
   "mimetype": "text/x-python",
   "name": "python",
   "nbconvert_exporter": "python",
   "pygments_lexer": "ipython3",
   "version": "3.10.11"
  }
 },
 "nbformat": 4,
 "nbformat_minor": 2
}
