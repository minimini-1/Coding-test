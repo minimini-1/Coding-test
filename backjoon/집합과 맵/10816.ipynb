{
 "cells": [
  {
   "cell_type": "markdown",
   "metadata": {},
   "source": [
    "숫자 카드는 정수 하나가 적혀져 있는 카드이다. 상근이는 숫자 카드 N개를 가지고 있다. 정수 M개가 주어졌을 때, 이 수가 적혀있는 숫자 카드를 상근이가 몇 개 가지고 있는지 구하는 프로그램을 작성하시오."
   ]
  },
  {
   "cell_type": "code",
   "execution_count": 1,
   "metadata": {},
   "outputs": [
    {
     "name": "stdout",
     "output_type": "stream",
     "text": [
      "3 0 0 1 2 0 0 2 "
     ]
    }
   ],
   "source": [
    "# import sys\n",
    "# input = sys.stdin.readline\n",
    "n = int(input())\n",
    "n_cards = list(map(int, input().split()))\n",
    "\n",
    "m = int(input())\n",
    "m_cards = list(map(int, input().split()))\n",
    "\n",
    "n_dict = {}\n",
    "for n_ in n_cards:\n",
    "    if n_ in n_dict:\n",
    "        n_dict[n_] += 1\n",
    "    else:\n",
    "        n_dict[n_] = 1\n",
    "\n",
    "for m_ in m_cards:\n",
    "    if m_ in n_dict:\n",
    "        print(n_dict[m_], end=\" \")\n",
    "    else:\n",
    "        print(0, end=\" \")"
   ]
  }
 ],
 "metadata": {
  "kernelspec": {
   "display_name": "Python 3",
   "language": "python",
   "name": "python3"
  },
  "language_info": {
   "codemirror_mode": {
    "name": "ipython",
    "version": 3
   },
   "file_extension": ".py",
   "mimetype": "text/x-python",
   "name": "python",
   "nbconvert_exporter": "python",
   "pygments_lexer": "ipython3",
   "version": "3.8.10"
  }
 },
 "nbformat": 4,
 "nbformat_minor": 2
}
