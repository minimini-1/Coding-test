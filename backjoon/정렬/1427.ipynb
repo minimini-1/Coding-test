{
 "cells": [
  {
   "cell_type": "markdown",
   "metadata": {},
   "source": [
    "배열을 정렬하는 것은 쉽다. 수가 주어지면, 그 수의 각 자리수를 내림차순으로 정렬해보자.\n",
    "\n"
   ]
  },
  {
   "cell_type": "code",
   "execution_count": 40,
   "metadata": {},
   "outputs": [
    {
     "name": "stdout",
     "output_type": "stream",
     "text": [
      "999999998\n"
     ]
    }
   ],
   "source": [
    "# 이전에 배웠던 계수 정렬 알고리즘을 이용하여 해결\n",
    "# num_list = int(input())\n",
    "num_list = 999998999\n",
    "num_list = [int(i) for i in list(str(num_list))]\n",
    "\n",
    "index_num_list = [0] * (max(num_list) + 1)\n",
    "output_num_list = []\n",
    "for i in num_list:\n",
    "    index_num_list[i] += 1\n",
    "    \n",
    "for j in range(max(num_list), -1, -1):\n",
    "    if index_num_list[j] != 0:\n",
    "        for _ in range(index_num_list[j]):\n",
    "            output_num_list.append(j)\n",
    "\n",
    "sum_num = 0\n",
    "for idx, i in enumerate(output_num_list):\n",
    "    sum_num += 10**(len(output_num_list) - idx - 1) * i\n",
    "print(sum_num)"
   ]
  }
 ],
 "metadata": {
  "kernelspec": {
   "display_name": "Python 3",
   "language": "python",
   "name": "python3"
  },
  "language_info": {
   "codemirror_mode": {
    "name": "ipython",
    "version": 3
   },
   "file_extension": ".py",
   "mimetype": "text/x-python",
   "name": "python",
   "nbconvert_exporter": "python",
   "pygments_lexer": "ipython3",
   "version": "3.10.11"
  }
 },
 "nbformat": 4,
 "nbformat_minor": 2
}
