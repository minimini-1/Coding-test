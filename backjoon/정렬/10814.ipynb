{
 "cells": [
  {
   "cell_type": "markdown",
   "metadata": {},
   "source": [
    "온라인 저지에 가입한 사람들의 나이와 이름이 가입한 순서대로 주어진다. 이때, 회원들을 나이가 증가하는 순으로, 나이가 같으면 먼저 가입한 사람이 앞에 오는 순서로 정렬하는 프로그램을 작성하시오."
   ]
  },
  {
   "cell_type": "code",
   "execution_count": 11,
   "metadata": {},
   "outputs": [
    {
     "name": "stdout",
     "output_type": "stream",
     "text": [
      "11 sdkfasdlkfas\n",
      "11 kkkkkkkk\n",
      "21 Junkyu\n",
      "21 Dunkyu\n",
      "22 sdfksdfk\n"
     ]
    }
   ],
   "source": [
    "n = int(input())\n",
    "name_list = []\n",
    "for _ in range(n):\n",
    "    age, name = input().split()\n",
    "    name_list.append([int(age), name])\n",
    "# name_list = [[21, 'Junkyu'], [21, 'Dunkyu'], [22, 'sdfksdfk'], [11, 'sdkfasdlkfas'], [11, 'kkkkkkkk']]\n",
    "name_list.sort(key=lambda x: [x[0]])\n",
    "for na in name_list:\n",
    "    print(na[0], na[1])"
   ]
  }
 ],
 "metadata": {
  "kernelspec": {
   "display_name": "Python 3",
   "language": "python",
   "name": "python3"
  },
  "language_info": {
   "codemirror_mode": {
    "name": "ipython",
    "version": 3
   },
   "file_extension": ".py",
   "mimetype": "text/x-python",
   "name": "python",
   "nbconvert_exporter": "python",
   "pygments_lexer": "ipython3",
   "version": "3.10.11"
  }
 },
 "nbformat": 4,
 "nbformat_minor": 2
}
