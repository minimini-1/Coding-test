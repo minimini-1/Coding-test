{
 "cells": [
  {
   "cell_type": "markdown",
   "metadata": {},
   "source": [
    "N개의 수가 주어졌을 때, 이를 오름차순으로 정렬하는 프로그램을 작성하시오.\n"
   ]
  },
  {
   "cell_type": "code",
   "execution_count": null,
   "metadata": {},
   "outputs": [
    {
     "ename": "ValueError",
     "evalue": "invalid literal for int() with base 10: ''",
     "output_type": "error",
     "traceback": [
      "\u001b[1;31m---------------------------------------------------------------------------\u001b[0m",
      "\u001b[1;31mValueError\u001b[0m                                Traceback (most recent call last)",
      "Cell \u001b[1;32mIn[13], line 1\u001b[0m\n\u001b[1;32m----> 1\u001b[0m n \u001b[38;5;241m=\u001b[39m \u001b[38;5;28;43mint\u001b[39;49m\u001b[43m(\u001b[49m\u001b[38;5;28;43minput\u001b[39;49m\u001b[43m(\u001b[49m\u001b[43m)\u001b[49m\u001b[43m)\u001b[49m\n\u001b[0;32m      2\u001b[0m num_list \u001b[38;5;241m=\u001b[39m []\n\u001b[0;32m      3\u001b[0m \u001b[38;5;28;01mfor\u001b[39;00m _ \u001b[38;5;129;01min\u001b[39;00m \u001b[38;5;28mrange\u001b[39m(n):\n",
      "\u001b[1;31mValueError\u001b[0m: invalid literal for int() with base 10: ''"
     ]
    }
   ],
   "source": [
    "# 시간초과됨\n",
    "n = int(input())\n",
    "num_list = []\n",
    "for _ in range(n):\n",
    "    num_list.append(int(input()))\n",
    "sorted(num_list)\n",
    "for i in num_list:\n",
    "    print(i)"
   ]
  },
  {
   "cell_type": "code",
   "execution_count": null,
   "metadata": {},
   "outputs": [],
   "source": [
    "# sys.stdin.readline() 을 쓰면 \\n을 포함해서 인식하기 때문에 input()보다 빠르다다\n",
    "import sys\n",
    "n = int(input())\n",
    "num_list = []\n",
    "for _ in range(n):\n",
    "    num_list.append(int(sys.stdin.readline()))\n",
    "num_list.sort()\n",
    "for i in num_list:\n",
    "    print(i)"
   ]
  },
  {
   "cell_type": "code",
   "execution_count": 11,
   "metadata": {},
   "outputs": [
    {
     "name": "stdout",
     "output_type": "stream",
     "text": [
      "1\n",
      "2\n",
      "3\n",
      "4\n",
      "5\n"
     ]
    }
   ],
   "source": [
    "# n = int(input())\n",
    "# num_list = []\n",
    "# for _ in range(n):\n",
    "#     num_list.append(int(input()))\n",
    "    \n",
    "num_list = [5,4,3,2,1]\n",
    "def quick_sort(num_list):\n",
    "    if len(num_list) <= 1:\n",
    "        return num_list\n",
    "    pivot = num_list[len(num_list) // 2]\n",
    "    less_num_list, eq_num_list, gre_num_list = [], [], []\n",
    "    for num in num_list:\n",
    "        if num < pivot:\n",
    "            less_num_list.append(num)\n",
    "        elif num == pivot:\n",
    "            eq_num_list.append(num)\n",
    "        elif num > pivot:\n",
    "            gre_num_list.append(num)\n",
    "    return quick_sort(less_num_list) + eq_num_list + quick_sort(gre_num_list)\n",
    "\n",
    "for i in quick_sort(num_list):\n",
    "    print(i)"
   ]
  }
 ],
 "metadata": {
  "kernelspec": {
   "display_name": "Python 3",
   "language": "python",
   "name": "python3"
  },
  "language_info": {
   "codemirror_mode": {
    "name": "ipython",
    "version": 3
   },
   "file_extension": ".py",
   "mimetype": "text/x-python",
   "name": "python",
   "nbconvert_exporter": "python",
   "pygments_lexer": "ipython3",
   "version": "3.10.11"
  }
 },
 "nbformat": 4,
 "nbformat_minor": 2
}
