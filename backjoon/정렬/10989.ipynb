{
 "cells": [
  {
   "cell_type": "markdown",
   "metadata": {},
   "source": [
    "N개의 수가 주어졌을 때, 이를 오름차순으로 정렬하는 프로그램을 작성하시오."
   ]
  },
  {
   "cell_type": "code",
   "execution_count": 5,
   "metadata": {},
   "outputs": [
    {
     "name": "stdout",
     "output_type": "stream",
     "text": [
      "1\n",
      "1\n",
      "2\n",
      "2\n",
      "3\n",
      "3\n",
      "4\n",
      "5\n",
      "5\n",
      "7\n"
     ]
    }
   ],
   "source": [
    "import sys\n",
    "n = int(input())\n",
    "num_list = []\n",
    "input = sys.stdin.readline\n",
    "for _ in range(n):\n",
    "    num_list.append(int(input()))\n",
    "    \n",
    "# n = 10\n",
    "# num_list = [5,2,3,1,4,2,3,5,1,7]\n",
    "def quick_sort(num_list):\n",
    "    if len(num_list) <= 1:\n",
    "        return num_list\n",
    "    pivot = num_list[len(num_list) % 2]\n",
    "    lo_num_list, sa_num_list, gr_num_list = [], [], []\n",
    "    for nu in num_list:\n",
    "        if nu < pivot:\n",
    "            lo_num_list.append(nu)\n",
    "        elif nu == pivot:\n",
    "            sa_num_list.append(nu)\n",
    "        elif nu > pivot:\n",
    "            gr_num_list.append(nu)\n",
    "    return quick_sort(lo_num_list) + sa_num_list + quick_sort(gr_num_list)\n",
    "\n",
    "for i in quick_sort(num_list):\n",
    "    print(i)"
   ]
  },
  {
   "cell_type": "markdown",
   "metadata": {},
   "source": [
    "### 오답노트\n",
    "> 위 처럼 하게되면 메모리를 많이 사용하게 됨 (수의 범위가 1만, 갯수는 1천만 개) \\\n",
    "> O(nlogn)으로도 안됨 \\\n",
    "> O(n)이 걸리는 계수 정렬 알고리즘으로 풀기"
   ]
  },
  {
   "cell_type": "code",
   "execution_count": 6,
   "metadata": {},
   "outputs": [
    {
     "name": "stdout",
     "output_type": "stream",
     "text": [
      "1\n",
      "1\n",
      "2\n",
      "2\n",
      "3\n",
      "3\n",
      "4\n",
      "5\n",
      "5\n",
      "7\n"
     ]
    }
   ],
   "source": [
    "# 순차 정렬 알고리즘, 비교 연산을 사용하지 않는 알고리즘\n",
    "# 숫자 값의 등장횟수를 저장할 배열 A, 최종적으로 정렬된 값을 저장할 배열이 필요 B\n",
    "# 입력 받은 배열에서 값을 하나씩 꺼내서 A의 인덱스를 이용하여 값을 증가시킴\n",
    "# A의 값과 인덱스를 이용하여 인덱스를 B의 값으로 간주하고 A의 값이 2개이면 B에서 값이 두 개가 되도록 구성함\n",
    "n = int(input())\n",
    "count = [0] * 10001\n",
    "for _ in range(n):\n",
    "    num = int(input())\n",
    "    count[num] += 1\n",
    "    \n",
    "for i in range(1, 10001):\n",
    "    if count[i] != 0:\n",
    "        for _ in range(count[i]):\n",
    "            print(i)"
   ]
  }
 ],
 "metadata": {
  "kernelspec": {
   "display_name": "Python 3",
   "language": "python",
   "name": "python3"
  },
  "language_info": {
   "codemirror_mode": {
    "name": "ipython",
    "version": 3
   },
   "file_extension": ".py",
   "mimetype": "text/x-python",
   "name": "python",
   "nbconvert_exporter": "python",
   "pygments_lexer": "ipython3",
   "version": "3.10.11"
  }
 },
 "nbformat": 4,
 "nbformat_minor": 2
}
