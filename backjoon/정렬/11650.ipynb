{
 "cells": [
  {
   "cell_type": "markdown",
   "metadata": {},
   "source": [
    "2차원 평면 위의 점 N개가 주어진다. 좌표를 x좌표가 증가하는 순으로, x좌표가 같으면 y좌표가 증가하는 순서로 정렬한 다음 출력하는 프로그램을 작성하시오."
   ]
  },
  {
   "cell_type": "code",
   "execution_count": 61,
   "metadata": {},
   "outputs": [
    {
     "name": "stdout",
     "output_type": "stream",
     "text": [
      "-2342 -10123\n",
      "0 0\n",
      "1 -1\n",
      "1 1\n",
      "2 2\n",
      "3 3\n",
      "3 4\n"
     ]
    }
   ],
   "source": [
    "# x, y의 오름차순으로 정렬\n",
    "# n = int(input())\n",
    "# point_list = []\n",
    "# for _ in range(n):\n",
    "#     point_list.append(list(map(int, input().split())))\n",
    "point_list = [[-2342,-10123],[3,4],[1,1],[1,-1],[2,2],[3,3],[0,0]]\n",
    "point_index_list = [i[0] for i in point_list]\n",
    "index_list = {}\n",
    "for _ in range(min(point_index_list), max(point_index_list)+1):\n",
    "    index_list[_] = []\n",
    "output_list = []\n",
    "\n",
    "for i in point_list:\n",
    "    index_list[i[0]].append(i[1])\n",
    "    \n",
    "for j in range(min(point_index_list), max(point_index_list)+1):\n",
    "    if len(index_list[j]) != 0:\n",
    "        for k in sorted(index_list[j]):\n",
    "            output_list.append([j, k])\n",
    "\n",
    "for ou in output_list:\n",
    "    print(ou[0], ou[1])"
   ]
  },
  {
   "cell_type": "code",
   "execution_count": 62,
   "metadata": {},
   "outputs": [
    {
     "name": "stdout",
     "output_type": "stream",
     "text": [
      "-2342 -10123\n",
      "0 0\n",
      "1 -1\n",
      "1 1\n",
      "2 2\n",
      "3 3\n",
      "3 4\n"
     ]
    }
   ],
   "source": [
    "# n = int(input())\n",
    "# point_list = []\n",
    "# for _ in range(n):\n",
    "#     point_list.append(list(map(int, input().split())))\n",
    "point_list = [[-2342,-10123],[3,4],[1,1],[1,-1],[2,2],[3,3],[0,0]]\n",
    "point_list.sort(key=lambda x: [x[0], x[1]])\n",
    "\n",
    "for po in point_list:\n",
    "    print(po[0], po[1])"
   ]
  }
 ],
 "metadata": {
  "kernelspec": {
   "display_name": "Python 3",
   "language": "python",
   "name": "python3"
  },
  "language_info": {
   "codemirror_mode": {
    "name": "ipython",
    "version": 3
   },
   "file_extension": ".py",
   "mimetype": "text/x-python",
   "name": "python",
   "nbconvert_exporter": "python",
   "pygments_lexer": "ipython3",
   "version": "3.10.11"
  }
 },
 "nbformat": 4,
 "nbformat_minor": 2
}
