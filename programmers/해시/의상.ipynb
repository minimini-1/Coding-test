{
 "cells": [
  {
   "cell_type": "code",
   "execution_count": 30,
   "metadata": {},
   "outputs": [],
   "source": [
    "from itertools import combinations\n",
    "def solution(clothes):\n",
    "    clothes_dict = {}\n",
    "    for cl, clss in clothes:\n",
    "        if clss in clothes_dict:\n",
    "            clothes_dict[clss] += 1\n",
    "        else:\n",
    "            clothes_dict[clss] = 1\n",
    "    # print(clothes_dict)\n",
    "    answer = 0\n",
    "    for i in range(1,len(clothes_dict)+1):\n",
    "        combi_list = list(combinations(list(clothes_dict.keys()), i))\n",
    "        for comb in combi_list:\n",
    "            ans = 1            \n",
    "            for co in comb:\n",
    "                ans = ans * clothes_dict[co]\n",
    "            answer += ans    \n",
    "    return answer "
   ]
  },
  {
   "cell_type": "code",
   "execution_count": 39,
   "metadata": {},
   "outputs": [],
   "source": [
    "def solution(clothes):\n",
    "    clothes_dict = {}\n",
    "    for cl, clss in clothes:\n",
    "        if clss in clothes_dict:\n",
    "            clothes_dict[clss] += 1\n",
    "        else:\n",
    "            clothes_dict[clss] = 1\n",
    "    # print(clothes_dict)\n",
    "    answer = 1\n",
    "    for ke in list(clothes_dict.keys()):\n",
    "        answer = answer * (clothes_dict[ke] + 1)\n",
    "    return answer - 1"
   ]
  },
  {
   "cell_type": "code",
   "execution_count": 40,
   "metadata": {},
   "outputs": [
    {
     "data": {
      "text/plain": [
       "7"
      ]
     },
     "execution_count": 40,
     "metadata": {},
     "output_type": "execute_result"
    }
   ],
   "source": [
    "solution([[\"crow_mask\", \"face\"], [\"blue_sunglasses\", \"face\"], [\"bls\", \"skin\"], [\"smoky_makeup\", \"face\"]]\t)"
   ]
  }
 ],
 "metadata": {
  "kernelspec": {
   "display_name": "Python 3",
   "language": "python",
   "name": "python3"
  },
  "language_info": {
   "codemirror_mode": {
    "name": "ipython",
    "version": 3
   },
   "file_extension": ".py",
   "mimetype": "text/x-python",
   "name": "python",
   "nbconvert_exporter": "python",
   "pygments_lexer": "ipython3",
   "version": "3.10.11"
  }
 },
 "nbformat": 4,
 "nbformat_minor": 2
}
