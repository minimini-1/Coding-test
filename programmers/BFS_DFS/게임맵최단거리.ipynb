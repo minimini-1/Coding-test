{
 "cells": [
  {
   "cell_type": "code",
   "execution_count": 33,
   "metadata": {},
   "outputs": [],
   "source": [
    "from collections import deque\n",
    "def solution(maps):\n",
    "    # 0 벽 있음, 1 벽 없음\n",
    "    global answer\n",
    "    answer = 0    \n",
    "    return bfs(0, 0, maps)\n",
    "\n",
    "def bfs(start_row, start_col, graph):\n",
    "    global answer\n",
    "    n_row = [-1,1,0,0]\n",
    "    n_col = [0,0,-1,1]\n",
    "    queue = deque([(start_row, start_col, 1)])\n",
    "    visited = set([(0,0)])\n",
    "    while queue:\n",
    "        curr_row, curr_col, curr_cnt = queue.popleft()\n",
    "        if curr_row == (len(graph) - 1) and curr_col == (len(graph[0]) - 1):\n",
    "            return curr_cnt\n",
    "        for i in range(len(n_row)):\n",
    "            next_row = curr_row + n_row[i]\n",
    "            next_col = curr_col + n_col[i]\n",
    "            if 0 > next_row or next_row >= len(graph) or 0 > next_col or next_col >= len(graph[0]):\n",
    "                continue\n",
    "            if 0 <= next_row < len(graph) and 0 <= next_col < len(graph[0]):\n",
    "                if graph[next_row][next_col] == 0:\n",
    "                    continue\n",
    "                elif graph[next_row][next_col] == 1 and (next_row, next_col) not in visited:\n",
    "                    visited.add((next_row, next_col))\n",
    "                    next_cnt = curr_cnt + 1\n",
    "                    queue.append((next_row, next_col, next_cnt))\n",
    "    return -1"
   ]
  },
  {
   "cell_type": "code",
   "execution_count": 34,
   "metadata": {},
   "outputs": [
    {
     "data": {
      "text/plain": [
       "-1"
      ]
     },
     "execution_count": 34,
     "metadata": {},
     "output_type": "execute_result"
    }
   ],
   "source": [
    "solution([[1,0,1,1,1],[1,0,1,0,1],[1,0,1,1,1],[1,1,1,0,0],[0,0,0,0,1]])"
   ]
  }
 ],
 "metadata": {
  "kernelspec": {
   "display_name": "Python 3",
   "language": "python",
   "name": "python3"
  },
  "language_info": {
   "codemirror_mode": {
    "name": "ipython",
    "version": 3
   },
   "file_extension": ".py",
   "mimetype": "text/x-python",
   "name": "python",
   "nbconvert_exporter": "python",
   "pygments_lexer": "ipython3",
   "version": "3.10.11"
  }
 },
 "nbformat": 4,
 "nbformat_minor": 2
}
