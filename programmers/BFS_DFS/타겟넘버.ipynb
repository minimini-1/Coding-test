{
 "cells": [
  {
   "cell_type": "code",
   "execution_count": 22,
   "metadata": {},
   "outputs": [],
   "source": [
    "def dfs(idx, graph, target, value):\n",
    "    global answer\n",
    "    # visited.add(curr_node) # 방문 노드 추가, 근데 idx가 순차적으로 탐색하기 때문에 이건 필요가 없음\n",
    "    if idx == len(graph) and target == value: # 다음 노드 탐색 ~= 종료 조건, 다음 노드 탐색 조건\n",
    "        answer += 1 # output으로 내고자 하는 것\n",
    "        return\n",
    "    if idx == len(graph): # 다음 노드 탐색 ~= 종료 조건, 다음 노드 탐색 조건\n",
    "        return\n",
    "    dfs(idx+1, graph, target, value+graph[idx]) # 재귀적 탐색, 조건도 같이 들어감\n",
    "    dfs(idx+1, graph, target, value-graph[idx]) # 재귀적 탐색, 조건도 같이 들어감\n",
    "\n",
    "def solution(numbers, target):\n",
    "    global answer\n",
    "    answer = 0\n",
    "    dfs(0, numbers, target, 0)\n",
    "    return answer\n",
    "    \n",
    "# def dfs(curr_node, graph, visited):\n",
    "#     visited.add(curr_node) # 방문 노드에 추가\n",
    "#     for next_node in graph[curr_node]: # 다음 노드 탐색\n",
    "#         if next_node not in visited: # 다음 노드 탐색 조건\n",
    "#             dfs(next_node, garph, visited) # 재귀적 탐색"
   ]
  },
  {
   "cell_type": "code",
   "execution_count": 23,
   "metadata": {},
   "outputs": [
    {
     "data": {
      "text/plain": [
       "5"
      ]
     },
     "execution_count": 23,
     "metadata": {},
     "output_type": "execute_result"
    }
   ],
   "source": [
    "solution([1, 1, 1, 1, 1], 3)"
   ]
  }
 ],
 "metadata": {
  "kernelspec": {
   "display_name": "Python 3",
   "language": "python",
   "name": "python3"
  },
  "language_info": {
   "codemirror_mode": {
    "name": "ipython",
    "version": 3
   },
   "file_extension": ".py",
   "mimetype": "text/x-python",
   "name": "python",
   "nbconvert_exporter": "python",
   "pygments_lexer": "ipython3",
   "version": "3.10.11"
  }
 },
 "nbformat": 4,
 "nbformat_minor": 2
}
