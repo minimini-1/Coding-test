{
 "cells": [
  {
   "cell_type": "code",
   "execution_count": 6,
   "metadata": {},
   "outputs": [],
   "source": [
    "def solution(n, computers):        \n",
    "    answer = 0\n",
    "    visited = set()\n",
    "    for com in range(n):\n",
    "        if com not in visited:\n",
    "            visited = dfs(com, computers, visited)\n",
    "            answer += 1\n",
    "    return answer\n",
    "\n",
    "def dfs(curr_node, graph, visited):\n",
    "    visited.add(curr_node)\n",
    "    for next_node, value in enumerate(graph[curr_node]):\n",
    "        if next_node not in visited and value == 1:\n",
    "            dfs(next_node, graph, visited)\n",
    "    return visited"
   ]
  },
  {
   "cell_type": "code",
   "execution_count": 8,
   "metadata": {},
   "outputs": [
    {
     "data": {
      "text/plain": [
       "2"
      ]
     },
     "execution_count": 8,
     "metadata": {},
     "output_type": "execute_result"
    }
   ],
   "source": [
    "solution(3, [[1, 1, 0], [1, 1, 0], [0, 0, 1]])"
   ]
  }
 ],
 "metadata": {
  "kernelspec": {
   "display_name": "Python 3",
   "language": "python",
   "name": "python3"
  },
  "language_info": {
   "codemirror_mode": {
    "name": "ipython",
    "version": 3
   },
   "file_extension": ".py",
   "mimetype": "text/x-python",
   "name": "python",
   "nbconvert_exporter": "python",
   "pygments_lexer": "ipython3",
   "version": "3.10.11"
  }
 },
 "nbformat": 4,
 "nbformat_minor": 2
}
