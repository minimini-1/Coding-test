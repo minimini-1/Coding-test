{
 "cells": [
  {
   "cell_type": "code",
   "execution_count": null,
   "metadata": {},
   "outputs": [],
   "source": [
    "solution([[1,1,7,4],[3,2,5,5],[4,3,6,9],[2,6,8,8]], 1,3,7,8)"
   ]
  },
  {
   "cell_type": "code",
   "execution_count": 5,
   "metadata": {},
   "outputs": [],
   "source": [
    "def solution(rectangle, characterX, characterY, itemX, itemY):\n",
    "    max_x, max_y = max([x[2] for x in rectangle]), max([x[3] for x in rectangle])\n",
    "    matrix = [[0] * (max_x+1) for _ in range(max_y+1)]\n",
    "    for re in rectangle:\n",
    "        matrix[re[0]:re[2]][re[1]:re[3]] = 1\n",
    "    print(matrix)\n",
    "        \n",
    "def bfs(start_row, start_col, graph):\n",
    "    queue = deque([(start_row, start_col)])\n",
    "    visited = set([(start_row, start_col)])\n",
    "    n_row = [-1,1,0,0]\n",
    "    n_col = [0,0,-1,1]\n",
    "    while queue:\n",
    "        curr_row, curr_col = queue.popleft()\n",
    "        for i in range(len(n_row)):\n",
    "            next_row = curr_row + n_row[i]\n",
    "            next_col = curr_col + n_col[i]\n",
    "            \n",
    "            for gr in graph:\n",
    "                x_min, x_max = gr[0], gr[2]\n",
    "                y_min, y_max = gr[1], gr[3]\n",
    "                # if x > "
   ]
  }
 ],
 "metadata": {
  "kernelspec": {
   "display_name": "Python 3",
   "language": "python",
   "name": "python3"
  },
  "language_info": {
   "codemirror_mode": {
    "name": "ipython",
    "version": 3
   },
   "file_extension": ".py",
   "mimetype": "text/x-python",
   "name": "python",
   "nbconvert_exporter": "python",
   "pygments_lexer": "ipython3",
   "version": "3.10.11"
  }
 },
 "nbformat": 4,
 "nbformat_minor": 2
}
