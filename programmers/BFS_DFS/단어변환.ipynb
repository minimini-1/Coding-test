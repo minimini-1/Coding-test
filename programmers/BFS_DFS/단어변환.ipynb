{
 "cells": [
  {
   "cell_type": "code",
   "execution_count": 62,
   "metadata": {},
   "outputs": [],
   "source": [
    "from collections import deque\n",
    "\n",
    "def solution(begin, target, words):    \n",
    "    return dfs(begin, target, words)\n",
    "\n",
    "def dfs(begin, target, words):\n",
    "    queue = deque([(begin, 0)])\n",
    "    visited = set([begin])\n",
    "    while queue:\n",
    "        curr_word, ch_cnt = queue.popleft()\n",
    "        if curr_word == target:\n",
    "            return ch_cnt\n",
    "        for wo in words:\n",
    "            cnt = 0\n",
    "            for i_, w in enumerate(list(wo)):\n",
    "                if wo[i_] != curr_word[i_]:\n",
    "                    cnt += 1\n",
    "            if cnt == 1 and wo not in visited: # next_word\n",
    "                visited.add(wo)\n",
    "                queue.append([wo, ch_cnt+1])\n",
    "    return 0"
   ]
  },
  {
   "cell_type": "code",
   "execution_count": 63,
   "metadata": {},
   "outputs": [
    {
     "data": {
      "text/plain": [
       "4"
      ]
     },
     "execution_count": 63,
     "metadata": {},
     "output_type": "execute_result"
    }
   ],
   "source": [
    "solution(\"hit\", \"cog\", [\"hot\", \"dot\", \"dog\", \"lot\", \"log\", \"cog\"])"
   ]
  },
  {
   "cell_type": "code",
   "execution_count": 9,
   "metadata": {},
   "outputs": [
    {
     "data": {
      "text/plain": [
       "['s', 'e', 'e']"
      ]
     },
     "execution_count": 9,
     "metadata": {},
     "output_type": "execute_result"
    }
   ],
   "source": [
    "list('see')"
   ]
  }
 ],
 "metadata": {
  "kernelspec": {
   "display_name": "Python 3",
   "language": "python",
   "name": "python3"
  },
  "language_info": {
   "codemirror_mode": {
    "name": "ipython",
    "version": 3
   },
   "file_extension": ".py",
   "mimetype": "text/x-python",
   "name": "python",
   "nbconvert_exporter": "python",
   "pygments_lexer": "ipython3",
   "version": "3.10.11"
  }
 },
 "nbformat": 4,
 "nbformat_minor": 2
}
